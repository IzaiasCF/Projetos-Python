{
 "cells": [
  {
   "cell_type": "markdown",
   "id": "ad9e4492",
   "metadata": {},
   "source": [
    "# Análise simples de dados com Python\n",
    "\n",
    "Neste exemplo, vamos:\n",
    "1. Criar uma lista de números\n",
    "2. Calcular a média\n",
    "3. Gerar um gráfico com Matplotlib\n"
   ]
  },
  {
   "cell_type": "code",
   "execution_count": 1,
   "id": "ec4fc40a",
   "metadata": {},
   "outputs": [
    {
     "ename": "ModuleNotFoundError",
     "evalue": "No module named 'matplotlib'",
     "output_type": "error",
     "traceback": [
      "\u001b[31m---------------------------------------------------------------------------\u001b[39m",
      "\u001b[31mModuleNotFoundError\u001b[39m                       Traceback (most recent call last)",
      "\u001b[36mCell\u001b[39m\u001b[36m \u001b[39m\u001b[32mIn[1]\u001b[39m\u001b[32m, line 1\u001b[39m\n\u001b[32m----> \u001b[39m\u001b[32m1\u001b[39m \u001b[38;5;28;01mimport\u001b[39;00m\u001b[38;5;250m \u001b[39m\u001b[34;01mmatplotlib\u001b[39;00m\u001b[34;01m.\u001b[39;00m\u001b[34;01mpyplot\u001b[39;00m\u001b[38;5;250m \u001b[39m\u001b[38;5;28;01mas\u001b[39;00m\u001b[38;5;250m \u001b[39m\u001b[34;01mplt\u001b[39;00m\n\u001b[32m      3\u001b[39m \u001b[38;5;66;03m# Dados simulados\u001b[39;00m\n\u001b[32m      4\u001b[39m valores = [\u001b[32m10\u001b[39m, \u001b[32m12\u001b[39m, \u001b[32m9\u001b[39m, \u001b[32m14\u001b[39m, \u001b[32m13\u001b[39m, \u001b[32m15\u001b[39m, \u001b[32m11\u001b[39m]\n",
      "\u001b[31mModuleNotFoundError\u001b[39m: No module named 'matplotlib'"
     ]
    }
   ],
   "source": [
    "import matplotlib.pyplot as plt\n",
    "\n",
    "# Dados simulados\n",
    "valores = [10, 12, 9, 14, 13, 15, 11]\n",
    "\n",
    "# Cálculo da média\n",
    "media = sum(valores) / len(valores)\n",
    "print(f\"Média dos valores: {media:.2f}\")\n"
   ]
  },
  {
   "cell_type": "code",
   "execution_count": null,
   "id": "d459cc73",
   "metadata": {},
   "outputs": [],
   "source": [
    "# Visualização\n",
    "plt.plot(valores, marker='o', label='Valores')\n",
    "plt.axhline(media, color='red', linestyle='--', label='Média')\n",
    "plt.title('Gráfico de Valores')\n",
    "plt.xlabel('Índice')\n",
    "plt.ylabel('Valor')\n",
    "plt.legend()\n",
    "plt.grid(True)\n",
    "plt.show()\n"
   ]
  }
 ],
 "metadata": {
  "kernelspec": {
   "display_name": ".venv",
   "language": "python",
   "name": "python3"
  },
  "language_info": {
   "codemirror_mode": {
    "name": "ipython",
    "version": 3
   },
   "file_extension": ".py",
   "mimetype": "text/x-python",
   "name": "python",
   "nbconvert_exporter": "python",
   "pygments_lexer": "ipython3",
   "version": "3.13.3"
  }
 },
 "nbformat": 4,
 "nbformat_minor": 5
}
