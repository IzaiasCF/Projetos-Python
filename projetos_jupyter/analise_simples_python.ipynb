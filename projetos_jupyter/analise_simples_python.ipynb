{
 "cells": [
  {
   "cell_type": "markdown",
   "id": "ad9e4492",
   "metadata": {},
   "source": [
    "# Análise simples de dados com Python\n",
    "\n",
    "Neste exemplo, vamos:\n",
    "1. Criar uma lista de números\n",
    "2. Calcular a média\n",
    "3. Gerar um gráfico com Matplotlib\n"
   ]
  },
  {
   "cell_type": "code",
   "execution_count": null,
   "id": "ec4fc40a",
   "metadata": {},
   "outputs": [],
   "source": [
    "import matplotlib.pyplot as plt\n",
    "\n",
    "# Dados simulados\n",
    "valores = [10, 12, 9, 14, 13, 15, 11]\n",
    "\n",
    "# Cálculo da média\n",
    "media = sum(valores) / len(valores)\n",
    "print(f\"Média dos valores: {media:.2f}\")\n"
   ]
  },
  {
   "cell_type": "code",
   "execution_count": null,
   "id": "d459cc73",
   "metadata": {},
   "outputs": [],
   "source": [
    "# Visualização\n",
    "plt.plot(valores, marker='o', label='Valores')\n",
    "plt.axhline(media, color='red', linestyle='--', label='Média')\n",
    "plt.title('Gráfico de Valores')\n",
    "plt.xlabel('Índice')\n",
    "plt.ylabel('Valor')\n",
    "plt.legend()\n",
    "plt.grid(True)\n",
    "plt.show()\n"
   ]
  }
 ],
 "metadata": {
  "kernelspec": {
   "display_name": ".venv",
   "language": "python",
   "name": "python3"
  },
  "language_info": {
   "name": "python",
   "version": "3.13.3"
  }
 },
 "nbformat": 4,
 "nbformat_minor": 5
}
